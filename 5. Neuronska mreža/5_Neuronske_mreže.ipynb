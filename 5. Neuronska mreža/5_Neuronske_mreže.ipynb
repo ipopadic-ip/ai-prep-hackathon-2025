{
  "cells": [
    {
      "cell_type": "markdown",
      "metadata": {
        "id": "6tFocLFukR-3"
      },
      "source": [
        "# Neuronske mreže"
      ]
    },
    {
      "cell_type": "markdown",
      "metadata": {
        "id": "OutbHz5XkVKb"
      },
      "source": [
        "### 🌟 Analogija    \n",
        "*Zamislite da učite dete da prepoznaje pse:*\n",
        "\n",
        "Oči primaju sliku.  \n",
        "Mozak analizira detalje: uši, rep, dlaku.   \n",
        "Usta kažu: 'Pas!'\n",
        "\n",
        "Neuronske mreže rade isto – primaju podatke, analiziraju kroz pregršt veza i daju odgovor.\n",
        "\n",
        "---"
      ]
    },
    {
      "cell_type": "markdown",
      "metadata": {
        "id": "ukGeKoTFh02Y"
      },
      "source": [
        "# 📚 Linearna funkcija y = ax + b"
      ]
    },
    {
      "cell_type": "markdown",
      "metadata": {
        "id": "Li1Cgxbmi3AD"
      },
      "source": [
        "![img/l1.png](img/l1.png)\n",
        "\n",
        "\n",
        "- Oslonite se samo na čitanje sa grafa (bez računanja), za x=3, koliko je y?  \n",
        "\n",
        "Možemo da zaključimo da svako x ima svoje y, ispravnije rečeno funkcija preslikava x u y.\n",
        "\n",
        "  Posmatrajmo funkciju na drugačiji način:   \n",
        "  x -> ulaz   \n",
        "  y -> izlaz   \n",
        "  funkcija -> **nešto** što nam omogućava ispravnu konverziju x u y\n",
        "\n",
        "- Šta ako funkcija ne omogućava ispravnu konverziju, ako za x vrednosti ne dobijamo željene y vrednosti? -> Nije dobra funkcija.   \n",
        "\n",
        "- Šta određuje izgled ove funkcije, a ujedno i rezultate izlaza? -> a i b parametri.\n",
        "\n",
        "- Kako možemo da je popravimo, *naštimamo*? -> Popravljamo vrednosti parametara a i b kako bismo smanjili grešku.\n",
        "\n",
        "![img/l2.png](img/l2.png)\n",
        "\n",
        "Možemo da uvidimo da promenom parametra a menjamo nagib funkcije, dok parametrom b menjamo pomeraj (presek sa y osom).\n",
        "\n",
        "- Oslonite se ponovo samo na čitanje sa grafa (bez računanja), za x=3, koliko je y?\n",
        "\n",
        "- Šta ako i dalje postoji greška u ovoj konverziji i funkcija ne obezbeđuje ispravne izlaze y za konkretne ulaze x? -> Popravljamo je dalje - tražimo parametre a i b koji će smanjiti grešku\n",
        "\n",
        "---"
      ]
    },
    {
      "cell_type": "markdown",
      "metadata": {
        "id": "lFABUooJhNgx"
      },
      "source": [
        "# Kako tumačimo izvode?"
      ]
    },
    {
      "cell_type": "markdown",
      "metadata": {
        "id": "HQX_RAuOjR0u"
      },
      "source": [
        "![img/2_func.jpeg](img/2_func.jpeg)\n",
        "\n",
        "- Posmatrajmo sliku.\n",
        " 1. Nalazimo se u vrednosti x=3, za x=3 -> y=5, ako se pomerimo za jako malu vrednost na x osi, recimo za 1, x=4 -> y=3. Vidimo da je došlo do neke promene vrednosti izlaza,  \n",
        " > y1=5, y2=3 -> y2-y1=2.\n",
        "\n",
        " 2. Nalazimo se u vrednosti x=3, za x=3 -> y=5, ako se pomerimo za jako malu vrednost na x osi, recimo za 1, x=4 -> y=1.\n",
        " > y1=5, y2=1 -> y2-y1=4.    \n",
        "\n",
        " **Zaključujemo da se u drugoj funkciji, za istu promenu ulaza x, drastičnije promenio izlaz y, u odnosu na prvu. Možemo reći da je druga funkcija \"osetljivija\" na promene ulaza.**\n",
        "\n",
        " - Šta je prvi izvod jedne funkcije u tački?\n",
        " > To je mera koliko brzo se menjaju njene vrednosti (izlazi) u odnosu na promenu vrednosti ulaza.\n",
        "\n",
        "---\n",
        "\n",
        "![img/extreme_values.png](img/extreme_values.png)\n",
        "\n",
        "- Osmotrite sliku. Zašto smo računali nulu prvog izvoda kada smo tražili ekstreme neke funkcije?\n",
        "\n",
        "> Za malu promenu x vrednosti, y je ostao isti, promena je 0.    \n",
        "To implicira da kada bismo mogli da izračunamo kad je promena 0 znali bismo da je to ekstrem funkcije (minimum ili maksimum). Iz tog razloga smo tražili nulu prvog izvoda!\n",
        "\n",
        "- Šta znači kada je taj izvod pozitivan, a šta kada je negativan?\n",
        "> Ako je izvod pozitivan -> Povećanjem ulaznih vrednosti povećavamo izlazne vrednosti -> funkcija raste.  \n",
        "Ako je izvod negativan -> Povećanjem ulaznih vrednosti smanjujemo izlazne vrednosti -> funkcija opada.\n",
        "\n",
        "Znak izvoda određuje kako se izlazi menjaju u odnosu na povećanje promenljive (pozitivno/negativno).    \n",
        "Vrednost izvoda određuje koliko brzo se izlazi menjaju u odnosu na promenu promenljive!\n",
        "\n",
        "---\n",
        "\n",
        "### **🌟Analogija**  \n",
        "Zamislite da stojite na padini i želite da se spustite do dna. Izvodi su vaš putokaz koji pokazuje:  \n",
        "- **Gde je najstrmije** (veliki izvod = veća strmina, brže ćete se spustiti),  \n",
        "- **U kom pravcu** (pozitivan izvod = ako nastavite idete uzbrdo, negativan = ako nastavite idete nizbrdo).  \n",
        "\n",
        "Ako je izvod pozitivan, želite da se vratite unazad (smanjujete x vrednost), ako je izvod negativan, želite da nastavite pravo (povećavate x vrednost)\n",
        "   "
      ]
    },
    {
      "cell_type": "markdown",
      "metadata": {
        "id": "AzBRyB7SjetS"
      },
      "source": [
        "# Kako bismo mogli da iskoristimo izvode za taženje ispravne linearne funkcije?"
      ]
    },
    {
      "cell_type": "markdown",
      "metadata": {
        "id": "l6zMbnL0jnTm"
      },
      "source": [
        "### **Uvod**  \n",
        "Zaključili smo da, kada funkcija y = ax + b ne daje tačne izlaze y za date ulaze x, potrebno je podesiti parametre a (nagib) i b (pomeraj) tako da oni smanje grešku. Jedan način podešavanja leži u **izvodima**, koji nam pokazuju kako parametri a i b utiču na grešku izlaza - koliko i kako je promena greške osetljiva na promenu parametara a i b.\n",
        "\n",
        "Napomena: Obratite pažnju da ne posmatramo kako se izlaz menja u odnosu na parametre, već kako se **funkcija greške** menja!\n",
        "\n",
        "---\n",
        "### **Korak 1: Računanje izlaza**\n",
        "Želimo da naša funkcija preslikava x u željeni y.    \n",
        "Recimo da nam je za ulaz  $x = 3$, željeni izlaz $y_{\\text{cilj}}$ = 7. Pukim  nagađanjem pretpostavimo da je ispravna funkcija $y=1*x+2$. Da li smo u pravu?\n",
        "\n",
        "  $$y_{\\text{pred}} = 1*3+2$$\n",
        "  $$y_{\\text{pred}} = 5$$   \n",
        "\n",
        "---\n",
        "\n",
        "### **Korak 2: Definišemo funkciju greške**  \n",
        "Kvadrat razlike između željenog i stvarnog izlaza je **greška**:  \n",
        "\n",
        "Greška $= (7-5)^2 = 4$ -> Naša funkcija nije bila ispravna 😞\n",
        "\n",
        "Funkcija greške $= (y_{\\text{cilj}} - y_{\\text{pred}})^2 = (y_{\\text{cilj}} - (a*x+b))^2  $\n",
        "\n",
        "Napomena: U ovom momentu nećemo dokazivati i objašnjavati zašto se koristi kvadrat greške, a ne samo razlika.\n",
        "\n",
        "---\n",
        "\n",
        "### **Korak 3: Izvodi nas vode do rešenja**\n",
        "Želimo da smanjimo grešku, računamo izvode funkcije greške $L$ kako bismo shvatili koliko je ona osetljiva na promene parametara. Kada to budemo shvatili, ažuriraćemo parametre na pravi način.\n",
        "\n",
        "1. **Izvod po \\( a \\)**:  \n",
        "$$\n",
        "\\frac{\\partial L}{\\partial a} = -2 * x * (y_{\\text{cilj}} - (a*x + b))\n",
        "$$\n",
        "Ovaj izvod pokazuje kako povećanje \\( a \\) utiče na grešku. Zamenimo vrednosti, x=3, $y_{\\text{cilj}}=7$, a=1, b=2.\n",
        "\n",
        "$$\n",
        "\\frac{\\partial L}{\\partial a} = -2 * 3 * (7 - (1*3 + 2)) = -12\n",
        "$$\n",
        "\n",
        "Izvod je negativan broj, što znači da povećanjem parametra a, smanjujemo grešku!\n",
        "\n",
        "\n",
        "2. **Izvod po \\( b \\)** (pomeraj):  \n",
        "$$\n",
        "\\frac{\\partial L}{\\partial b} = 2 * (y_{\\text{cilj}} - (a*x + b))\n",
        "$$\n",
        "Ovaj izvod pokazuje kako povećanje \\( b \\) utiče na grešku. Zamenimo vrednosti, x=3, $y_{\\text{cilj}}=7$, a=1, b=2.\n",
        "\n",
        "$$\n",
        "\\frac{\\partial L}{\\partial b} = 2 * (7 - (1*3 + 2)) = 4\n",
        "$$\n",
        "\n",
        "Izvod je pozitivan broj , što znači da povećanjem parametra b, povećavamo grešku!\n",
        "\n",
        "---\n",
        "\n",
        "### **Korak 4: Ažuriranje parametara**  \n",
        "Parametre a i b ažuriramo koristeći izvode:  \n",
        "$$\n",
        "a_{\\text{novo}} = a_{\\text{staro}} - \\alpha * \\frac{\\partial L}{\\partial a}\n",
        "$$\n",
        "$$\n",
        "b_{\\text{novo}} = b_{\\text{staro}} - \\alpha * \\frac{\\partial L}{\\partial b}\n",
        "$$\n",
        "\n",
        "Imamo neke indikatore kako treba da menjamo paramtre kako bismo smanjili grešku, ali ne želimo odmah da preduzimamo drastrične mere i menjamo ih za celu vrednost izvoda. Promenimo \"malo\" (korak 4) - izračunamo y (korak 1) - proverimo grešku (korak 2) - računamo izvode (korak 3) - promenimo \"malo\" (korak 4). Ponavljamo ovaj proces dok nismo minimizovali grešku, idealno: dok greška ne postane jednaka 0.\n",
        "\n",
        "To koliko \"malo\" želimo da promenimo parametre predstavlja $ \\alpha$ - **brzina učenja**. Ako je  $ \\alpha$ = 0.05, promenićemo parametre za 5% njihovog izvoda.\n",
        "\n",
        "Ubacimo vrednosti\n",
        "$$\n",
        "a_{\\text{novo}} = 1 - 0.05 * (-12) = 1.6\n",
        "$$\n",
        "\n",
        "$$\n",
        "b_{\\text{novo}} = 1 - 0.05 * 4 = 0.8\n",
        "$$\n",
        "\n",
        "Ponovimo ceo ciklus - korak 1 - korak 2 - korak 3 - korak 4 dok ne minimizujemo grešku do 0.\n",
        "Ceo ciklus predstavlja proces obučavanja. I možemo ga podeliti u dva procesa:\n",
        "1. **Propagaciju unapred (Forward Propagation)** - Korak 1  \n",
        "  - Izračunavamo izlaz modela $y_{\\text{cilj}} = w * x +b$   \n",
        "2. **Propagaciju unazad (Backward propagation)** - Korak 2+3+4\n",
        "  - Računamo funkciju greške.\n",
        "  - Računamo izvode funkcije greške po parametrima.\n",
        "  - Ažuriramo parametre pomoću gradijentnog spusta.\n",
        "\n",
        "**Gradijentni spust** (Gradient Descent) je deo propagacije unazad, tačnije koraci 3 i 4. i predstavlja optimizaciju parametara a i b.\n",
        "\n",
        "---\n",
        "\n",
        "### 🌍 **Primer**  \n",
        "1. Početna funkcija: $ y = 1x + 2 $ → za $ x = 3 $, $ y = 7 $.  \n",
        "2. Željeni izlaz: $ y_{\\text{cilj}} = 7 $.  \n",
        "3. Greška: $ 7 - 5 = 2 $.  \n",
        "4. Izračunajmo izvode:  \n",
        "   - $ \\frac{\\partial \\text{L}}{\\partial a} = -2 * 3 * 2 = -12 $\n",
        "   - $ \\frac{\\partial \\text{L}}{\\partial b} = 2 * 2 = 4 $  \n",
        "5. Ako je ( $\\alpha $ =  0.05 ):  \n",
        "   - $ a_{\\text{novo}} = 1 - 0.05 * (-12) = 1.6$\n",
        "   - $ b_{\\text{novo}} = 1 -  0.05 * 4= 0.8$\n",
        "\n",
        "Nova funkcija: $ y = 1,6* x + 0.8 $. Za $ x = 3$, sada je $ y = 5.6 $, $greška= 1.4$, uspeli smo da smanjimo grešku kroz samo jednu iteraciju (epohu)!\n",
        "Postupak se ponavlja dok greška ne postane dovoljno mala.  \n",
        "\n",
        "Izvodima merimo **osetljivost greške** na promene parametara. Korišćenjem ovih informacija, postupno smanjujemo grešku, optimizujući parametre modela.   \n"
      ]
    },
    {
      "cell_type": "markdown",
      "metadata": {
        "id": "6gBUd2fcjqL8"
      },
      "source": [
        "# 📚 Neuron"
      ]
    },
    {
      "cell_type": "markdown",
      "metadata": {
        "id": "RYO64d9djthP"
      },
      "source": [
        "> Linearna funkcija + Aktivaciona funkcija = Neuron !!!\n",
        "\n",
        "Izlaz linearne funkcije postaje ulaz u još jednu funkciju (aktivacionu funkciju - više o njima u nastavku, za sada je bitno da je to samo još jedna funkcija) i dobijamo neuron - osnovnu jedinicu građe i funkcije neuronskih mreža!\n",
        "\n",
        "- Parametar a se naziva **težina** (*weight*) i u literaturi je uglavnom predstavljen slovom w\n",
        "- Parametar b se naziva **pomeraj** (*bias*)\n",
        "\n",
        "Proces optimizacije parametara ostaje apsolutno isti, samo će izvod biti malo složeniji za računanje. (Prisetite se izvoda složene funkcije)\n",
        "Linearna funkcija može da reši samo linearne probleme, aktivaciona funkcija čini neuron moćnijim jer uvodi nelinearnost i otvara polje rešavanja nelinearnih problema!\n",
        "\n",
        "---\n",
        "\n",
        "Šta ako imamo više ulaza, a ne samo jedno x?   \n",
        ">Linearna funkacija = $a_1*x_1 + a_2*x_2+...+b$    \n",
        " Linearna funkcija + Aktivaciona funkcija = Neuron   \n",
        "\n",
        "Linearna funkcija će se izmeniti tako što će svaki ulaz $x_n$ imati svoj parametar težine $a_n$.\n",
        "Proces optimizacije parametara ostaje isti, samo će računanje biti malo duže.\n",
        "\n",
        "---\n",
        "\n",
        "Kako je nastala ova ideja?\n",
        "\n",
        "Neuron je matematički model inspirisan biološkim neuronima u mozgu. Njegova uloga je da primi ulazne podatke, obradi ih i proizvede izlaz. Ideja potiče iz želje da se simulira način na koji neuroni u živim organizmima prenose signale:\n",
        "\n",
        "1. Prima ulaze ($x_1$, $x_2$...),\n",
        "2. Svakom ulazu dodeljuje \"važnost\" (težine $w_1$, $w_2$...), dodaje pomeraj (b) -> linearna funkcija\n",
        "3. Prolazi kroz aktivacionu funkciju\n",
        "4. Generiše izlaz koji može biti prosleđen drugim neuronima ili korišćen kao konačan rezultat.\n",
        "\n",
        "![img/neuron_idea.png](img/neuron_idea.png)\n",
        "\n",
        "\n",
        "\n",
        "\n"
      ]
    },
    {
      "cell_type": "markdown",
      "metadata": {
        "id": "XM6ApFqFhH0o"
      },
      "source": [
        "# 📚 Neuronska mreža"
      ]
    },
    {
      "cell_type": "markdown",
      "metadata": {
        "id": "J0glgEvlh7Y_"
      },
      "source": [
        "### 🌟 Analogija    \n",
        "*Zamislite da učite dete da prepoznaje pse:*\n",
        "\n",
        "Oči primaju sliku.  \n",
        "Mozak analizira detalje: uši, rep, dlaku.   \n",
        "Usta kažu: 'Pas!'\n",
        "\n",
        "Neuronske mreže rade isto – primaju podatke, analiziraju kroz pregršt veza i daju odgovor.\n",
        "\n",
        "---\n",
        "\n",
        "### 📚 Struktura\n",
        "\n",
        "Jedan neuron je osnovna jedinica od koje sve počinje. On može da primi ulazne vrednosti, obradi ih pomoću težina i pomeraja, primeni aktivacionu funkciju i proizvede izlaz. Ovo otkriće je ključno, ali jedan neuron sam po sebi može rešavati samo jednostavne probleme.\n",
        "\n",
        "Za složenije probleme, potreban nam je veći broj neurona koji rade zajedno. Neuroni se ne koriste pojedinačno, već se grupišu u slojeve. Više slojeva neurona čini neuronsku mrežu. Na slici je prikazan višeslojni perceptron (multilayer perceptron - MLP), ali postoje i mnoge druge arhitekture neuronske mreže.\n",
        "\n",
        "U MLP-u, neuroni unutar istog sloja nisu povezani, svaki neuron nezavisno prima ulaze i obrađuje ih, ali nije direktno povezan sa drugim neuronima tog istog sloja. Neuroni iz jednog sloja su povezani sa neuronima iz sledećeg sloja. To znači da izlaz svakog neurona iz prethodnog sloja postaje ulaz neuronima u narednom sloju.\n",
        "\n",
        "---\n",
        "\n",
        "![img/nn_training.png](img/nn_training.png)\n"
      ]
    },
    {
      "cell_type": "markdown",
      "metadata": {
        "id": "0SwWaYsonkgG"
      },
      "source": [
        "### 🎯 Ključni koncepti"
      ]
    },
    {
      "cell_type": "markdown",
      "metadata": {
        "id": "zHG7uEGNns_l"
      },
      "source": [
        "\n",
        "Zamislite da učite da ubacujete loptu u koš i posedujete 10 lopti.\n",
        "#### 1. Loss funkcija   \n",
        "##### 🌟 Analogija  \n",
        "  Svaki put kada promašite, dobijate kritiku od trenera koju treba da ispravite. Što ste bliži košu, manje stvari za ispravljanje.    \n",
        "👉**Loss funkcija** je trener – meri koliko je model 'pogrešio' i kažnjava ga, a zatim mu pomaže da poboljša rezultat. Kao da pročitate ceo udžbenik jednom od korice do korice.\n",
        "\n",
        "##### 📚 Definicija\n",
        "Mera koja kvantifikuje koliko su predviđanja loša.\n",
        "\n",
        "##### Primeri:\n",
        "- MSE (Mean Squared Error): Za regresiju – kažnjava velike greške.   \n",
        "- Cross-Entropy: Za klasifikaciju – meri razliku u verovatnoćama.\n",
        "\n",
        "1. Model predvidi (npr. cena stana = 200.000€).   \n",
        "2. Za loss funkciju smo izabrali MSE i izračunali razliku od stvarne vrednosti (npr. 210.000€ → greška = 10.000€).   \n",
        "3. Model koristi ovu grešku da ažurira težine.   \n",
        "\n",
        "\n",
        "---\n",
        "\n",
        "\n",
        "#### 2. Epoha   \n",
        "##### 🌟 Analogija\n",
        "  Jedna epoha predstavlja ceo trening proces u kojem ste isprobali svih 10 lopti.    \n",
        "👉 U neuronskim mrežama, jedna **epoha** znači da je ceo skup podataka prošao kroz model jednom.\n",
        "\n",
        "##### 📚 Definicija\n",
        "Jedan prolazak kroz sve primere iz trening skupa tokom treniranja.\n",
        "\n",
        "Modelu treba više epoha da \"uvidi širu sliku\" i smanji grešku.   \n",
        "  - Previše epoha: Rizik od overfitting-a (nauči napamet).    \n",
        "  - Premalo epoha: Underfitting (nije naučio dovoljno).\n",
        "\n",
        "##### 🌍 Primer\n",
        "Ako imate 1.000 slika, jedna epoha znači da je model video svaku sliku tačno jednom.\n",
        "\n",
        "---\n",
        "\n",
        "#### 3. Batch   \n",
        "##### 🌟 Analogija\n",
        "  Zamislite da ne šutirate svih 10 lopti odjednom, već uzimate po 2 lopte, bacite ih, analizirate rezultate i onda bacate sledeće 2.    \n",
        "👉 U modelima, batch je deo podataka koji prolazi kroz mrežu pre nego što se izvrši ažuriranje parametara, batch size bi na prethodnom primeru bio 2.\n",
        "\n",
        "##### 📚 Definicija\n",
        "Podskup podataka unapred određene velicine (Batch size) na osnovu kog se računa srednja greška i ažuriraju parametri.  \n",
        "\n",
        "Batch size = 1 -> Parametri se menjaju na osnovu svakog primera, učenje je vrlo nestabilno    \n",
        "Batch size = Ceo trening skup -> Učenje stabilno, ali zahteva veliku memoriju\n",
        "- Potrebno je naći dobru veličinu u zavisnosti od količine podataka, memorijskih resursa\n",
        "\n",
        "---\n",
        "#### 4. Learning rate   \n",
        "##### 🌟 Analogija\n",
        "   Ako svaki put kada promašite, drastično promenite tehniku šuta, može se desiti da nikada ne nađete pravi način. Ako pravite samo male korekcije, možda ćete se previše sporo poboljšavati.     \n",
        "👉 Learning rate kontroliše koliko brzo model menja svoje težine – ako je previsok, model može da 'skače' i ne nauči ništa, ako je prenizak, može da uči presporo.\n",
        "\n",
        "##### 📚 Definicija\n",
        "Koliko *agresivno* model podešava težine nakon svake greške.\n",
        "\n",
        "- Prevelik: Model divergira, ne može da pronađe minimum jer drastično menja parametre.\n",
        "- Premali: Treniranje traje večnost.\n",
        "\n",
        "---\n",
        "\n",
        "#### 5. Parametri i hiperparametri     \n",
        "##### 🌟 Analogija    \n",
        "  Parametri su vaši mišići, pokreti i ugao šuta – oni se prilagođavaju kako bi se poboljšao rezultat.\n",
        "  Hiperparametri su pravila koja birate pre nego što počnete da vežbate, poput broja lopti koje koristite, udaljenosti od koša ili koliko brzo menjate tehniku.    \n",
        "👉 U modelima, parametri se automatski uče tokom treninga, dok hiperparametri određujemo mi unapred (npr. broj epoha, veličina batch-a, learning rate).\n",
        "\n",
        "---\n",
        "#### 6. Aktivacione funkcije (ekplodirajuci gradijenti, vanish gradijenti)\n",
        "##### 📚 Definicija\n",
        " Uvode nenelinearnost – bez njih, neuronska mreža bi bila obična linearna regresija.\n",
        "\n",
        "##### 🌍 Primeri\n",
        "ReLU: f(x) = max(0, x) – popularna zbog jednostavnosti.     \n",
        "Sigmoid: f(x) = 1 / (1 + e^-x) – pretvara u verovatnoću (0–1).      \n",
        "Tanh: Slična sigmoidu, ali opseg -1 do 1.     \n",
        "\n",
        "| Funkcija                         | Kada se koristi                                                     | Prednosti                                            | Mane                              |\n",
        "| -------------------------------- | ------------------------------------------------------------------- | ---------------------------------------------------- | --------------------------------- |\n",
        "| **ReLU (Rectified Linear Unit)** | Standard za skrivene slojeve                                        | Brza, jednostavna, nema saturacije u pozitivnom delu | Može “umreti” (neuroni stalno 0)  |\n",
        "| **Leaky ReLU / Parametric ReLU** | Ako se javi “dead ReLU” problem                                     | Ublažava mrtve neurone                               | Malo više hiperparametara         |\n",
        "| **Sigmoid**                      | Retko za skrivene slojeve. OK za izlaz kada treba vrednost u \\[0,1] | Dobro za interpretaciju kao verovatnoće              | Saturacija i “vanishing gradient” |\n",
        "| **Tanh**                         | Ponekad za skrivene slojeve kada su ulazi centrirani oko 0          | Simetrična oko nule                                  | I dalje može saturirati           |\n",
        "| **Softmax**                      | Za poslednji sloj kod klasifikacije (višeklasne)                    | Pretvara u verovatnoće                               | Samo izlazni sloj                 |\n",
        "\n",
        "      \n",
        "\n",
        "##### Saturacija\n",
        "- Saturacija se odnosi na aktivacionu funkciju i njen izlaz\n",
        "- Funkcija saturira kad ulaz u neuron postane dovoljno velik ili mali da izlaz prestane da se menja značajno.To znači da je izvod funkcije skoro 0.\n",
        "\n",
        "**Primer:**\n",
        "   \n",
        "Aktivaciona funkcija:\n",
        "\n",
        "$$\n",
        "\\sigma(x) = \\frac{1}{1 + e^{-x}}\n",
        "$$\n",
        "\n",
        "Izvod:\n",
        "\n",
        "$$\n",
        "\\sigma'(x) = \\sigma(x) \\cdot (1 - \\sigma(x))\n",
        "$$\n",
        "\n",
        "---\n",
        "\n",
        "\n",
        "### 1️⃣ Veliki pozitivni ulaz: \\(x = 10\\)\n",
        "\n",
        "$$\n",
        "\\sigma(10) = \\frac{1}{1 + e^{-10}} \\approx 0.99995\n",
        "$$\n",
        "\n",
        "$$\n",
        "\\sigma'(10) = 0.99995 \\cdot (1 - 0.99995) \\approx 0.00005\n",
        "$$\n",
        "\n",
        "- Izlaz ≈ 1 → **saturacija**  \n",
        "- Izvod ≈ 0 → gradijent nestaje\n",
        "\n",
        "---\n",
        "\n",
        "### 2️⃣ Veliki negativni ulaz: \\(x = -10\\)\n",
        "\n",
        "$$\n",
        "\\sigma(-10) = \\frac{1}{1 + e^{10}} \\approx 0.000045\n",
        "$$\n",
        "\n",
        "$$\n",
        "\\sigma'(-10) = 0.000045 \\cdot (1 - 0.000045) \\approx 0.000045\n",
        "$$\n",
        "\n",
        "- Izlaz ≈ 0 → **saturacija**  \n",
        "- Izvod ≈ 0 → neuron prestaje da uči\n",
        "\n",
        "---\n",
        "\n",
        "### 3️⃣ Mali ulaz blizu 0: \\(x = 0\\)\n",
        "\n",
        "$$\n",
        "\\sigma(0) = 0.5\n",
        "$$\n",
        "\n",
        "$$\n",
        "\\sigma'(0) = 0.5 \\cdot (1 - 0.5) = 0.25\n",
        "$$\n",
        "\n",
        "- Izlaz se menja normalno  \n",
        "- Gradijent je dovoljno velik → **nema saturacije**\n",
        "\n",
        "---\n",
        "\n",
        "##### 🛠️ Izazovi\n",
        "1. Nestajući Gradijenti (Vanishing Gradients)   \n",
        "Gradijenti postaju toliko mali da se težine ne ažuriraju (naročito u dubokim mrežama).   \n",
        "Uzrok: Aktivacione funkcije kao sigmoid koje \"kompresuju\" izlaz u mali opseg.     \n",
        "Jedno od rešenja: Koristiti ReLU ili njene varijante (Leaky ReLU).   \n",
        "\n",
        "2. Eksplodirajući Gradijenti (Exploding Gradients)   \n",
        "Gradijenti postaju ogromni, što dovodi do nestabilnog treniranja.    \n",
        "Uzrok: Prevelike težine ili previsok learning rate.    \n",
        "Jedno od rešenja: Gradient Clipping: Ograniči gradijente na maksimalnu vrednost.\n",
        "Podešavanje learning rate-a.\n"
      ]
    },
    {
      "cell_type": "markdown",
      "metadata": {
        "id": "ZTIklDcqidYo"
      },
      "source": [
        "## Primer MLP - Keras biblioteka"
      ]
    },
    {
      "cell_type": "markdown",
      "source": [
        "Importovanje potrebnih biblioteka"
      ],
      "metadata": {
        "id": "qjt7emonJYNL"
      }
    },
    {
      "cell_type": "code",
      "source": [
        "import numpy as np\n",
        "import pandas as pd\n",
        "import matplotlib.pyplot as plt\n",
        "%matplotlib inline\n",
        "import seaborn as sns\n",
        "\n",
        "from keras.datasets import mnist\n",
        "from keras.utils import to_categorical\n",
        "from keras.models import Sequential\n",
        "from keras.layers import Dense , Activation, Dropout, Flatten\n",
        "from keras.optimizers import Adam ,RMSprop\n",
        "from keras import  backend as K"
      ],
      "metadata": {
        "id": "XKZlwgviDR9p"
      },
      "execution_count": 47,
      "outputs": []
    },
    {
      "cell_type": "markdown",
      "source": [
        "Učitavanje podataka:"
      ],
      "metadata": {
        "id": "J5GwFCf2Ja-H"
      }
    },
    {
      "cell_type": "code",
      "source": [
        "(x_train, y_train), (x_test, y_test) = mnist.load_data()"
      ],
      "metadata": {
        "id": "03dC-9UbDaM1"
      },
      "execution_count": 48,
      "outputs": []
    },
    {
      "cell_type": "markdown",
      "source": [
        "Napomena: Primer služi za prikaz koda (da ne biste tražili po biblioteci), u realnim projektima koristite train/val/test ili k fold..."
      ],
      "metadata": {
        "id": "DuwYQuuEKeLU"
      }
    },
    {
      "cell_type": "markdown",
      "source": [
        "Prikaz dimenzija skupova:"
      ],
      "metadata": {
        "id": "u2nA5gUgJeKr"
      }
    },
    {
      "cell_type": "code",
      "source": [
        "print(f'Dimenzije trening ulaza: {x_train.shape}')\n",
        "print(f'Dimenzije trening izlaza: {y_train.shape}')\n",
        "\n",
        "print(f'Dimenzije test ulaza: {x_test.shape}')\n",
        "print(f'Dimenzije test izlaza: {y_test.shape}')"
      ],
      "metadata": {
        "colab": {
          "base_uri": "https://localhost:8080/"
        },
        "id": "55RJQc6PE33j",
        "outputId": "8ae75f50-ff7a-4084-fc63-f308c28e3315"
      },
      "execution_count": 49,
      "outputs": [
        {
          "output_type": "stream",
          "name": "stdout",
          "text": [
            "Dimenzije trening ulaza: (60000, 28, 28)\n",
            "Dimenzije trening izlaza: (60000,)\n",
            "Dimenzije test ulaza: (10000, 28, 28)\n",
            "Dimenzije test izlaza: (10000,)\n"
          ]
        }
      ]
    },
    {
      "cell_type": "markdown",
      "source": [
        "Prikaz jedne instance:"
      ],
      "metadata": {
        "id": "USRLPdGiJi-y"
      }
    },
    {
      "cell_type": "code",
      "source": [
        "import matplotlib.pyplot as plt\n",
        "\n",
        "plt.imshow(x_train[0], cmap='gray')\n",
        "plt.title(f\"Labela: {y_train[0]}\")\n",
        "plt.show()\n"
      ],
      "metadata": {
        "colab": {
          "base_uri": "https://localhost:8080/",
          "height": 452
        },
        "id": "QfR-nkO4D-wP",
        "outputId": "65c863e9-c738-4878-ffa0-4164ea0ce484"
      },
      "execution_count": 50,
      "outputs": [
        {
          "output_type": "display_data",
          "data": {
            "text/plain": [
              "<Figure size 640x480 with 1 Axes>"
            ],
            "image/png": "[encoded data removed]"
          },
          "metadata": {}
        }
      ]
    },
    {
      "cell_type": "markdown",
      "source": [
        "Raspodela klasa:"
      ],
      "metadata": {
        "id": "lWUPSNFwJl7B"
      }
    },
    {
      "cell_type": "code",
      "source": [
        "fig, axes = plt.subplots(1, 2, figsize=(14, 5))\n",
        "\n",
        "\n",
        "sns.countplot(x=y_train, ax=axes[0], palette=\"viridis\")\n",
        "axes[0].set_title(\"Distribucija klasa trening skupa\")\n",
        "axes[0].set_xlabel(\"Labele\")\n",
        "axes[0].set_ylabel(\"Br instanci\")\n",
        "\n",
        "\n",
        "sns.countplot(x=y_test, ax=axes[1], palette=\"viridis\")\n",
        "axes[1].set_title(\"Distribucija klasa test skupa\")\n",
        "axes[1].set_xlabel(\"Labele\")\n",
        "axes[1].set_ylabel(\"Br instanci\")\n",
        "\n",
        "plt.tight_layout()\n",
        "plt.show()"
      ],
      "metadata": {
        "colab": {
          "base_uri": "https://localhost:8080/",
          "height": 588
        },
        "id": "dvLQYaayIv-0",
        "outputId": "c773938c-258a-42af-fbed-43bf079329c1"
      },
      "execution_count": 51,
      "outputs": [
        {
          "output_type": "stream",
          "name": "stderr",
          "text": [
            "/tmp/ipython-input-1493576454.py:4: FutureWarning: \n",
            "\n",
            "Passing `palette` without assigning `hue` is deprecated and will be removed in v0.14.0. Assign the `x` variable to `hue` and set `legend=False` for the same effect.\n",
            "\n",
            "  sns.countplot(x=y_train, ax=axes[0], palette=\"viridis\")\n",
            "/tmp/ipython-input-1493576454.py:10: FutureWarning: \n",
            "\n",
            "Passing `palette` without assigning `hue` is deprecated and will be removed in v0.14.0. Assign the `x` variable to `hue` and set `legend=False` for the same effect.\n",
            "\n",
            "  sns.countplot(x=y_test, ax=axes[1], palette=\"viridis\")\n"
          ]
        },
        {
          "output_type": "display_data",
          "data": {
            "text/plain": [
              "<Figure size 1400x500 with 2 Axes>"
            ],
            "image/png": "[encoded data removed]"
          },
          "metadata": {}
        }
      ]
    },
    {
      "cell_type": "markdown",
      "source": [
        "Pretprocesiranje:"
      ],
      "metadata": {
        "id": "5Av3i8jUJpHI"
      }
    },
    {
      "cell_type": "code",
      "source": [
        "# ciljna promenljiva:\n",
        "y_train = to_categorical(y_train)\n",
        "y_test = to_categorical(y_test)\n",
        "\n",
        "# atributi:\n",
        "# Napomena: u modelu smo stavili Flatten sloj, da nismo, morali bismo ručno srediti dimenzije\n",
        "#x_train = np.reshape(x_train, [-1, 28*28])\n",
        "x_train = ((x_train.astype('float32') / 255) - 0.5) * 2\n",
        "\n",
        "#x_test = np.reshape(x_test, [-1, 28*28])\n",
        "x_test = ((x_test.astype('float32') / 255) - 0.5) * 2"
      ],
      "metadata": {
        "id": "N-8xH9VRJNIB"
      },
      "execution_count": 52,
      "outputs": []
    },
    {
      "cell_type": "markdown",
      "source": [
        "Određivanje hiperparametara:"
      ],
      "metadata": {
        "id": "ExLVDvt9MEbT"
      }
    },
    {
      "cell_type": "code",
      "source": [
        "batch_size = 128\n",
        "hidden_units = 256\n",
        "dropout = 0.45\n",
        "input_size = 28*28\n",
        "num_labels = 10\n",
        "epochs = 20\n",
        "lr = 0.001"
      ],
      "metadata": {
        "id": "daPQBqVoMhfz"
      },
      "execution_count": 53,
      "outputs": []
    },
    {
      "cell_type": "markdown",
      "source": [
        "Kreiranje arhitekture NN:"
      ],
      "metadata": {
        "id": "WCdd0uieMkzq"
      }
    },
    {
      "cell_type": "code",
      "source": [
        "model = Sequential()\n",
        "model.add(Flatten(input_shape=[28,28]))\n",
        "model.add(Dense(hidden_units, input_dim=input_size))\n",
        "model.add(Activation('relu'))\n",
        "model.add(Dropout(dropout))\n",
        "model.add(Dense(hidden_units))\n",
        "model.add(Activation('relu'))\n",
        "model.add(Dropout(dropout))\n",
        "model.add(Dense(num_labels))\n",
        "model.add(Activation('softmax'))"
      ],
      "metadata": {
        "colab": {
          "base_uri": "https://localhost:8080/"
        },
        "id": "cXQV6xcSMTz0",
        "outputId": "0f238ba0-8148-4141-d5a8-0e91d64b0d57"
      },
      "execution_count": 54,
      "outputs": [
        {
          "output_type": "stream",
          "name": "stderr",
          "text": [
            "/usr/local/lib/python3.12/dist-packages/keras/src/layers/reshaping/flatten.py:37: UserWarning: Do not pass an `input_shape`/`input_dim` argument to a layer. When using Sequential models, prefer using an `Input(shape)` object as the first layer in the model instead.\n",
            "  super().__init__(**kwargs)\n",
            "/usr/local/lib/python3.12/dist-packages/keras/src/layers/core/dense.py:93: UserWarning: Do not pass an `input_shape`/`input_dim` argument to a layer. When using Sequential models, prefer using an `Input(shape)` object as the first layer in the model instead.\n",
            "  super().__init__(activity_regularizer=activity_regularizer, **kwargs)\n"
          ]
        }
      ]
    },
    {
      "cell_type": "markdown",
      "source": [
        "Optimizator:"
      ],
      "metadata": {
        "id": "nnW3TMd4Ohk_"
      }
    },
    {
      "cell_type": "code",
      "source": [
        "optimizer = Adam(learning_rate=lr)"
      ],
      "metadata": {
        "id": "O4bjyWbhOgyA"
      },
      "execution_count": 55,
      "outputs": []
    },
    {
      "cell_type": "markdown",
      "source": [
        "Obučavanje:"
      ],
      "metadata": {
        "id": "9Ydk3b3nM3ws"
      }
    },
    {
      "cell_type": "code",
      "source": [
        "model.compile(loss='categorical_crossentropy',\n",
        "              optimizer=optimizer,\n",
        "              metrics=['accuracy'])"
      ],
      "metadata": {
        "id": "oRooSQUQM26s"
      },
      "execution_count": 56,
      "outputs": []
    },
    {
      "cell_type": "code",
      "source": [
        "history = model.fit(x_train, y_train, epochs=epochs, batch_size=batch_size)\n",
        "\n",
        "#model.fit( x_train, y_train, epochs=epochs, batch_size=batch_size, validation_data=(x_val, y_val))"
      ],
      "metadata": {
        "colab": {
          "base_uri": "https://localhost:8080/"
        },
        "id": "s6bB3h8OOFnK",
        "outputId": "d68a5eca-7fb4-4f7b-8fd7-269b751e0c84"
      },
      "execution_count": 57,
      "outputs": [
        {
          "output_type": "stream",
          "name": "stdout",
          "text": [
            "Epoch 1/20\n",
            "\u001b[1m469/469\u001b[0m \u001b[32m━━━━━━━━━━━━━━━━━━━━\u001b[0m\u001b[37m\u001b[0m \u001b[1m5s\u001b[0m 5ms/step - accuracy: 0.7021 - loss: 0.9139\n",
            "Epoch 2/20\n",
            "\u001b[1m469/469\u001b[0m \u001b[32m━━━━━━━━━━━━━━━━━━━━\u001b[0m\u001b[37m\u001b[0m \u001b[1m1s\u001b[0m 2ms/step - accuracy: 0.9001 - loss: 0.3306\n",
            "Epoch 3/20\n",
            "\u001b[1m469/469\u001b[0m \u001b[32m━━━━━━━━━━━━━━━━━━━━\u001b[0m\u001b[37m\u001b[0m \u001b[1m1s\u001b[0m 3ms/step - accuracy: 0.9161 - loss: 0.2794\n",
            "Epoch 4/20\n",
            "\u001b[1m469/469\u001b[0m \u001b[32m━━━━━━━━━━━━━━━━━━━━\u001b[0m\u001b[37m\u001b[0m \u001b[1m2s\u001b[0m 4ms/step - accuracy: 0.9251 - loss: 0.2473\n",
            "Epoch 5/20\n",
            "\u001b[1m469/469\u001b[0m \u001b[32m━━━━━━━━━━━━━━━━━━━━\u001b[0m\u001b[37m\u001b[0m \u001b[1m2s\u001b[0m 4ms/step - accuracy: 0.9304 - loss: 0.2326\n",
            "Epoch 6/20\n",
            "\u001b[1m469/469\u001b[0m \u001b[32m━━━━━━━━━━━━━━━━━━━━\u001b[0m\u001b[37m\u001b[0m \u001b[1m1s\u001b[0m 2ms/step - accuracy: 0.9342 - loss: 0.2225\n",
            "Epoch 7/20\n",
            "\u001b[1m469/469\u001b[0m \u001b[32m━━━━━━━━━━━━━━━━━━━━\u001b[0m\u001b[37m\u001b[0m \u001b[1m1s\u001b[0m 2ms/step - accuracy: 0.9373 - loss: 0.2052\n",
            "Epoch 8/20\n",
            "\u001b[1m469/469\u001b[0m \u001b[32m━━━━━━━━━━━━━━━━━━━━\u001b[0m\u001b[37m\u001b[0m \u001b[1m1s\u001b[0m 2ms/step - accuracy: 0.9426 - loss: 0.1921\n",
            "Epoch 9/20\n",
            "\u001b[1m469/469\u001b[0m \u001b[32m━━━━━━━━━━━━━━━━━━━━\u001b[0m\u001b[37m\u001b[0m \u001b[1m1s\u001b[0m 2ms/step - accuracy: 0.9454 - loss: 0.1808\n",
            "Epoch 10/20\n",
            "\u001b[1m469/469\u001b[0m \u001b[32m━━━━━━━━━━━━━━━━━━━━\u001b[0m\u001b[37m\u001b[0m \u001b[1m1s\u001b[0m 2ms/step - accuracy: 0.9467 - loss: 0.1808\n",
            "Epoch 11/20\n",
            "\u001b[1m469/469\u001b[0m \u001b[32m━━━━━━━━━━━━━━━━━━━━\u001b[0m\u001b[37m\u001b[0m \u001b[1m1s\u001b[0m 2ms/step - accuracy: 0.9476 - loss: 0.1706\n",
            "Epoch 12/20\n",
            "\u001b[1m469/469\u001b[0m \u001b[32m━━━━━━━━━━━━━━━━━━━━\u001b[0m\u001b[37m\u001b[0m \u001b[1m1s\u001b[0m 3ms/step - accuracy: 0.9489 - loss: 0.1728\n",
            "Epoch 13/20\n",
            "\u001b[1m469/469\u001b[0m \u001b[32m━━━━━━━━━━━━━━━━━━━━\u001b[0m\u001b[37m\u001b[0m \u001b[1m2s\u001b[0m 3ms/step - accuracy: 0.9521 - loss: 0.1610\n",
            "Epoch 14/20\n",
            "\u001b[1m469/469\u001b[0m \u001b[32m━━━━━━━━━━━━━━━━━━━━\u001b[0m\u001b[37m\u001b[0m \u001b[1m1s\u001b[0m 2ms/step - accuracy: 0.9509 - loss: 0.1621\n",
            "Epoch 15/20\n",
            "\u001b[1m469/469\u001b[0m \u001b[32m━━━━━━━━━━━━━━━━━━━━\u001b[0m\u001b[37m\u001b[0m \u001b[1m1s\u001b[0m 2ms/step - accuracy: 0.9537 - loss: 0.1546\n",
            "Epoch 16/20\n",
            "\u001b[1m469/469\u001b[0m \u001b[32m━━━━━━━━━━━━━━━━━━━━\u001b[0m\u001b[37m\u001b[0m \u001b[1m1s\u001b[0m 2ms/step - accuracy: 0.9527 - loss: 0.1496\n",
            "Epoch 17/20\n",
            "\u001b[1m469/469\u001b[0m \u001b[32m━━━━━━━━━━━━━━━━━━━━\u001b[0m\u001b[37m\u001b[0m \u001b[1m1s\u001b[0m 2ms/step - accuracy: 0.9533 - loss: 0.1577\n",
            "Epoch 18/20\n",
            "\u001b[1m469/469\u001b[0m \u001b[32m━━━━━━━━━━━━━━━━━━━━\u001b[0m\u001b[37m\u001b[0m \u001b[1m1s\u001b[0m 2ms/step - accuracy: 0.9567 - loss: 0.1411\n",
            "Epoch 19/20\n",
            "\u001b[1m469/469\u001b[0m \u001b[32m━━━━━━━━━━━━━━━━━━━━\u001b[0m\u001b[37m\u001b[0m \u001b[1m1s\u001b[0m 2ms/step - accuracy: 0.9559 - loss: 0.1473\n",
            "Epoch 20/20\n",
            "\u001b[1m469/469\u001b[0m \u001b[32m━━━━━━━━━━━━━━━━━━━━\u001b[0m\u001b[37m\u001b[0m \u001b[1m1s\u001b[0m 2ms/step - accuracy: 0.9591 - loss: 0.1357\n"
          ]
        }
      ]
    },
    {
      "cell_type": "code",
      "source": [
        "plt.figure(figsize=(12,5))\n",
        "plt.subplot(1,2,1)\n",
        "plt.plot(history.history['loss'], label='Train Loss')\n",
        "plt.title('Loss')\n",
        "plt.xlabel('Epoch')\n",
        "plt.ylabel('Loss')\n",
        "plt.legend()"
      ],
      "metadata": {
        "colab": {
          "base_uri": "https://localhost:8080/",
          "height": 504
        },
        "id": "TfOIruvMPrO9",
        "outputId": "917eb198-4758-469d-9d48-62b5e800afce"
      },
      "execution_count": 58,
      "outputs": [
        {
          "output_type": "execute_result",
          "data": {
            "text/plain": [
              "<matplotlib.legend.Legend at 0x77fcf0444680>"
            ]
          },
          "metadata": {},
          "execution_count": 58
        },
        {
          "output_type": "display_data",
          "data": {
            "text/plain": [
              "<Figure size 1200x500 with 1 Axes>"
            ],
            "image/png": "[encoded data removed]"
          },
          "metadata": {}
        }
      ]
    },
    {
      "cell_type": "markdown",
      "source": [
        "Evaluacija:"
      ],
      "metadata": {
        "id": "g_R4rnebQa68"
      }
    },
    {
      "cell_type": "code",
      "source": [
        "loss, acc = model.evaluate(x_test, y_test, batch_size=batch_size)\n",
        "print(f\"Test tačnost: {acc*100:.2f}%\")\n",
        "print(f\"Test greška (loss): {loss:.4f}\")"
      ],
      "metadata": {
        "colab": {
          "base_uri": "https://localhost:8080/"
        },
        "id": "G4mZA-Y3Qce2",
        "outputId": "2b4ddbc1-8028-4c5b-d016-443298f1dd23"
      },
      "execution_count": 59,
      "outputs": [
        {
          "output_type": "stream",
          "name": "stdout",
          "text": [
            "\u001b[1m79/79\u001b[0m \u001b[32m━━━━━━━━━━━━━━━━━━━━\u001b[0m\u001b[37m\u001b[0m \u001b[1m1s\u001b[0m 6ms/step - accuracy: 0.9673 - loss: 0.1051\n",
            "Test tačnost: 97.38%\n",
            "Test greška (loss): 0.0883\n"
          ]
        }
      ]
    },
    {
      "cell_type": "markdown",
      "source": [
        "Obučavanje modela sa čuvanjem parametara:"
      ],
      "metadata": {
        "id": "a098d0kuSzb1"
      }
    },
    {
      "cell_type": "code",
      "source": [
        "from keras.callbacks import ModelCheckpoint\n",
        "import os\n",
        "\n",
        "# Folder gde će se čuvati checkpoint-ovi\n",
        "checkpoint_dir = './checkpoints'\n",
        "os.makedirs(checkpoint_dir, exist_ok=True)\n",
        "\n",
        "\n",
        "checkpoint_callback = ModelCheckpoint(\n",
        "    filepath=os.path.join(checkpoint_dir, 'mnist_model_epoch{epoch:02d}_val{val_loss:.4f}.h5'),\n",
        "    save_weights_only=True,       # čuvamo samo težine, ne celu strukturu modela\n",
        "    save_freq='epoch',            # čuvanje na kraju svake epohe\n",
        "    monitor='val_loss',           # možemo pratiti loss ili accuracy\n",
        "    save_best_only=True,          # čuvanje samo najboljeg modela (odnosi se na ono što smo stavili u 'monitor')\n",
        "    verbose=1\n",
        ")\n",
        "\n",
        "# Treniranje modela sa callback-om\n",
        "history = model.fit(\n",
        "    x_train, y_train,\n",
        "    epochs=epochs,\n",
        "    batch_size=batch_size,\n",
        "    validation_data=(x_val, y_val),\n",
        "    callbacks=[checkpoint_callback]\n",
        ")\n"
      ],
      "metadata": {
        "id": "QDjHVkIAS7Yq"
      },
      "execution_count": null,
      "outputs": []
    },
    {
      "cell_type": "markdown",
      "source": [
        "Ponovno treniranje:"
      ],
      "metadata": {
        "id": "V3Ns8AH_TQBE"
      }
    },
    {
      "cell_type": "code",
      "source": [
        "# Učitavanje težina\n",
        "model.load_weights('./checkpoints/mnist_model_epoch10_val0.0876.h5')\n",
        "# Nastavak treniranja\n",
        "model.fit(... )"
      ],
      "metadata": {
        "id": "WR8P9WHXTSBy"
      },
      "execution_count": null,
      "outputs": []
    }
  ],
  "metadata": {
    "colab": {
      "provenance": [],
      "gpuType": "T4"
    },
    "kernelspec": {
      "display_name": "Python 3",
      "name": "python3"
    },
    "language_info": {
      "name": "python"
    },
    "accelerator": "GPU"
  },
  "nbformat": 4,
  "nbformat_minor": 0
}