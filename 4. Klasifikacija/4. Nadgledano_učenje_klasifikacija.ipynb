{
  "cells": [
    {
      "cell_type": "markdown",
      "metadata": {
        "id": "p90te5zUfv83"
      },
      "source": [
        "# Nadgledano učenje"
      ]
    },
    {
      "cell_type": "markdown",
      "metadata": {
        "id": "GjEdanHsiDgP"
      },
      "source": [
        "Nadgledano učenje (Supervised Learning) je jedan od najčešće korišćenih pristupa u mašinskom učenju. U ovom pristupu, model se trenira na skupu podataka sa poznatim ulazima (X) i izlazima (y), pri čemu je cilj modela da nauči vezu između ulaznih i izlaznih podataka. Kada se model obuči, može se koristiti za predviđanje izlaznih vrednosti za nove, nepoznate podatke.\n",
        "\n",
        "![img/supervised-lr.png](img/supervised-lr.png)\n",
        "\n",
        "\n",
        "U nadgledanom učenju, model pokušava da nauči funkciju:\n",
        "\n",
        "𝑓(𝑋)=𝑦\n",
        "\n",
        "gde su:\n",
        "\n",
        "X – Ulazni podaci (npr. karakteristike)\n",
        "\n",
        "y – Izlazne vrednosti (cilj)\n",
        "\n",
        "Podela nadgledanog učenja:\n",
        "1. Regresija – Kada je izlazna vrednost kontinuirana (npr. temperatura, cena, visina).\n",
        "\n",
        "2. Klasifikacija – Kada je izlazna vrednost diskretna (npr. bolest: da/ne, boja: crvena/plava/zuta)."
      ]
    },
    {
      "cell_type": "markdown",
      "metadata": {
        "id": "b6RZPA6phFH4"
      },
      "source": [
        "## Klasifikacija"
      ]
    },
    {
      "cell_type": "markdown",
      "metadata": {
        "id": "yzTtvrUbhHJ3"
      },
      "source": [
        "### 🌟 Anlogija\n",
        "Klasifikacija je kao sortiranje knjiga u biblioteci – svaka knjiga (podatak) ide na određenu policu (kategoriju/klasu).\n",
        "\n",
        "---\n",
        "\n",
        "### 📚 Definicija\n",
        "- Klasifikacija se koristi za podelu podataka u kategorije na osnovu istorijskih podataka. Na primer, možemo imati podatke o biljkama i želimo da ih klasifikujemo prema vrsti (npr. ruža, ljiljan, orhideja).  \n",
        "\n",
        "- **Primeri**:  \n",
        "  - Prepoznavanje slova (A, B, C...).  \n",
        "  - Dijagnostika bolesti (zdrav/oboleo).  \n",
        "  - Detekcija spama (spam/ne spam).  \n",
        "\n",
        "---\n",
        "\n",
        "⚙️ Kako radi klasifikacija?\n",
        "1. Obučavanje modela: Model uči veze između obeležja (X) i labela (Y) iz trening podataka.    \n",
        "Primer: Obeležja = dužina i širina latica;   \n",
        "Labela = vrsta cveća (Iris setosa, versicolor).\n",
        "\n",
        "2. Predviđanje: Za novi podatak, model koristi naučena pravila da odredi labelu.\n",
        "\n",
        "### **KNN (K-Nearest Neighbors)**  \n",
        "\n",
        "- Klasifikuje nove podatke na osnovu **K najbližih suseda** u trening skupu.  \n",
        "- **🌟 Analogija**: Kao da pitate 5 najbližih komšija (K=5) da preporuče film – većina odlučuje.  \n",
        "\n",
        "#### ⚙️ **Kako radi?**  \n",
        "1. Izračunaj udaljenost novog podatka od svih u treningu (npr. Euklidska udaljenost).  \n",
        "2. Odaberi **K najbližih**.  \n",
        "3. Dodeli klasu koja je najčešća među njima.  \n",
        "\n",
        "![img/knn.gif](img/knn.gif)\n",
        "\n",
        "**Primer**:  \n",
        "- **Podaci**: Cveće (dužina latica, širina latica) → vrsta (Iris setosa, virginica).  \n",
        "- **Novi cvet**: (5cm, 1.5cm).  \n",
        "- **K=3**: 2 suseda su setosa, 1 virginica → klasa = **setosa**.  \n",
        "\n",
        "#### **Prednosti i mane**:  \n",
        "| ✅ Prednosti          | ❌ Mane                  |  \n",
        "|-----------------------|--------------------------|  \n",
        "| Jednostavan za razumevanje. | Spor za velike skupove podataka. |  \n",
        "| Nema pretreniranja (lazy learning). | Osetljiv na šum i autlajere. |  \n",
        "\n",
        "---\n",
        "\n",
        "###  **SVM (Support Vector Machine)**  \n",
        "\n",
        "- Nalazi **granicu** (hiperravan) koja najbolje razdvaja klase, maksimizirajući marginu.  \n",
        "- **🌟 Analogija**: Kao da crtate najširu moguću traku između dve grupe ljudi u parku.  \n",
        "\n",
        "#### **⚙️ Kako radi?**  \n",
        "1. Pronađe hiperravan koja maksimizuje marginu između klasa.  \n",
        "2. **Support vektori** su podaci najbliži granici – oni određuju položaj hiperravni.  \n",
        "3. Za nelinearne podatke koristi **kernel trik** (npr. RBF) da ih preslika u višu dimenziju.  \n",
        "\n",
        "![img/svm.gif](img/svm.gif)\n",
        "\n",
        "**Primer**:  \n",
        "- **Podaci**: Pacijenti (nivo šećera, pritisak) → dijabetes (da/ne).  \n",
        "- **Hiperravan**: Linija koja razdvaja pacijente sa i bez dijabetesa.  \n",
        "- **Kernel (RBF)**: Transformiše podatke u prostor gde su linearne klase.  \n",
        "\n",
        "#### **Prednosti i mane**:  \n",
        "| ✅ Prednosti          | ❌ Mane                  |  \n",
        "|-----------------------|--------------------------|  \n",
        "| Efikasan u visokim dimenzijama. | Zahteva pažljivo podešavanje parametara. |  \n",
        "| Dobro radi sa nelinearnim podacima (kernel). | Spor za veoma velike skupove. |  \n",
        "\n",
        "---\n",
        "\n",
        "### 🛠️ **Kada koristiti KNN vs SVM?**  \n",
        "| **Kriterijum**       | **KNN**                  | **SVM**                  |  \n",
        "|-----------------------|--------------------------|--------------------------|  \n",
        "| **Veličina podataka** | Manji skupovi.           | Srednji/veliki skupovi.  |  \n",
        "| **Kompleksnost**      | Brza implementacija.     | Složenija konfiguracija. |  \n",
        "| **Nelinearnost**      | Lošije za kompleksne obrasce. | Izvrsno sa kernelima. |  \n",
        "\n",
        "---\n",
        "\n",
        "### 🌍 **Primeri**  \n",
        "1. **KNN u preporukama**:  \n",
        "   - Ako kupite 3 knjige, sistem preporučuje knjige koje su kupili korisnici sa sličnim izborom.  \n",
        "2. **SVM u medicini**:  \n",
        "   - Određivanje da li je tumor benigni ili maligni na osnovu veličine i oblika.  \n",
        "\n",
        "---\n",
        "\n",
        "### 🚫 **Česte greške**  \n",
        "- **KNN**: Ne skaliranje obeležja (npr. visina u metrima i plata u evrima).  \n",
        "- **SVM**: Pogrešan izbor kernela (npr. linearni kernel za spiralno razdvojive podatke).  \n",
        "\n",
        "---\n",
        "\n",
        "### 🎯 **Sumirano**  \n",
        "- **KNN**: \"Pamti sve i pita komšije.\" Idealno za brze prototipove.  \n",
        "- **SVM**: \"Crtaj granicu sa širinom.\" Idealno za kompleksne podatke.  \n"
      ]
    }
  ],
  "metadata": {
    "colab": {
      "provenance": []
    },
    "kernelspec": {
      "display_name": "Python 3",
      "name": "python3"
    },
    "language_info": {
      "name": "python"
    }
  },
  "nbformat": 4,
  "nbformat_minor": 0
}
