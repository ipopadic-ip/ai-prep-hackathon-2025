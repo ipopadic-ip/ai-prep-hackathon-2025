{
  "nbformat": 4,
  "nbformat_minor": 0,
  "metadata": {
    "colab": {
      "provenance": []
    },
    "kernelspec": {
      "name": "python3",
      "display_name": "Python 3"
    },
    "language_info": {
      "name": "python"
    }
  },
  "cells": [
    {
      "cell_type": "markdown",
      "source": [
        "**1)** Zadatak"
      ],
      "metadata": {
        "id": "1PUQ09HL6dXm"
      }
    },
    {
      "cell_type": "code",
      "execution_count": null,
      "metadata": {
        "colab": {
          "base_uri": "https://localhost:8080/"
        },
        "id": "axwrYfkJ4NDA",
        "outputId": "ca2b75b4-a475-4196-fa72-c2b7fff5c797"
      },
      "outputs": [
        {
          "output_type": "stream",
          "name": "stdout",
          "text": [
            "Veličine skupova:\n",
            "Train: 90 Validation: 30 Test: 30\n",
            "\n",
            "Rezultati SVM:\n",
            "Validation accuracy: 1.0\n",
            "Test accuracy: 1.0\n",
            "\n",
            "Rezultati KNN:\n",
            "Validation accuracy: 0.9666666666666667\n",
            "Test accuracy: 0.9\n"
          ]
        }
      ],
      "source": [
        "# 1) Učitavanje potrebnih biblioteka\n",
        "from sklearn import datasets\n",
        "from sklearn.model_selection import train_test_split\n",
        "from sklearn.svm import SVC\n",
        "from sklearn.neighbors import KNeighborsClassifier\n",
        "from sklearn.metrics import accuracy_score\n",
        "\n",
        "# 2) Učitavanje Iris skupa podataka\n",
        "iris = datasets.load_iris()\n",
        "X = iris.data\n",
        "y = iris.target\n",
        "\n",
        "# 3) Podela na TRAIN (60%), VALIDATION (20%), TEST (20%)\n",
        "X_train, X_temp, y_train, y_temp = train_test_split(\n",
        "    X, y, test_size=0.4, random_state=42, stratify=y\n",
        ")\n",
        "\n",
        "X_val, X_test, y_val, y_test = train_test_split(\n",
        "    X_temp, y_temp, test_size=0.5, random_state=42, stratify=y_temp\n",
        ")\n",
        "\n",
        "print(\"Veličine skupova:\")\n",
        "print(\"Train:\", X_train.shape[0], \"Validation:\", X_val.shape[0], \"Test:\", X_test.shape[0])\n",
        "\n",
        "# 4) SVM model - treniramo na TRAIN, proveravamo na VALIDATION\n",
        "svm_model = SVC(kernel='linear')\n",
        "svm_model.fit(X_train, y_train)\n",
        "y_pred_val_svm = svm_model.predict(X_val)\n",
        "acc_val_svm = accuracy_score(y_val, y_pred_val_svm)\n",
        "\n",
        "# Finalna evaluacija na TEST skupu\n",
        "y_pred_test_svm = svm_model.predict(X_test)\n",
        "acc_test_svm = accuracy_score(y_test, y_pred_test_svm)\n",
        "\n",
        "# 5) KNN model\n",
        "knn_model = KNeighborsClassifier(n_neighbors=5)\n",
        "knn_model.fit(X_train, y_train)\n",
        "y_pred_val_knn = knn_model.predict(X_val)\n",
        "acc_val_knn = accuracy_score(y_val, y_pred_val_knn)\n",
        "\n",
        "y_pred_test_knn = knn_model.predict(X_test)\n",
        "acc_test_knn = accuracy_score(y_test, y_pred_test_knn)\n",
        "\n",
        "# 6) Rezultati\n",
        "print(\"\\nRezultati SVM:\")\n",
        "print(\"Validation accuracy:\", acc_val_svm)\n",
        "print(\"Test accuracy:\", acc_test_svm)\n",
        "\n",
        "print(\"\\nRezultati KNN:\")\n",
        "print(\"Validation accuracy:\", acc_val_knn)\n",
        "print(\"Test accuracy:\", acc_test_knn)\n"
      ]
    },
    {
      "cell_type": "code",
      "source": [],
      "metadata": {
        "id": "tKh--AXtRR-3"
      },
      "execution_count": null,
      "outputs": []
    }
  ]
}